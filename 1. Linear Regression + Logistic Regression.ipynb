{
 "cells": [
  {
   "cell_type": "markdown",
   "id": "98b73aa0",
   "metadata": {},
   "source": [
    "# Mini Project 1 – Linear & Logistic Regression"
   ]
  },
  {
   "cell_type": "markdown",
   "id": "7af2f50e",
   "metadata": {},
   "source": [
    "## Part A: Linear Regression "
   ]
  },
  {
   "cell_type": "markdown",
   "id": "4c1076e0",
   "metadata": {},
   "source": [
    "#### 1. Explore and import Boston house prices dataset:"
   ]
  },
  {
   "cell_type": "code",
   "execution_count": 1,
   "id": "bc3eadd3",
   "metadata": {},
   "outputs": [
    {
     "name": "stdout",
     "output_type": "stream",
     "text": [
      ".. _boston_dataset:\n",
      "\n",
      "Boston house prices dataset\n",
      "---------------------------\n",
      "\n",
      "**Data Set Characteristics:**  \n",
      "\n",
      "    :Number of Instances: 506 \n",
      "\n",
      "    :Number of Attributes: 13 numeric/categorical predictive. Median Value (attribute 14) is usually the target.\n",
      "\n",
      "    :Attribute Information (in order):\n",
      "        - CRIM     per capita crime rate by town\n",
      "        - ZN       proportion of residential land zoned for lots over 25,000 sq.ft.\n",
      "        - INDUS    proportion of non-retail business acres per town\n",
      "        - CHAS     Charles River dummy variable (= 1 if tract bounds river; 0 otherwise)\n",
      "        - NOX      nitric oxides concentration (parts per 10 million)\n",
      "        - RM       average number of rooms per dwelling\n",
      "        - AGE      proportion of owner-occupied units built prior to 1940\n",
      "        - DIS      weighted distances to five Boston employment centres\n",
      "        - RAD      index of accessibility to radial highways\n",
      "        - TAX      full-value property-tax rate per $10,000\n",
      "        - PTRATIO  pupil-teacher ratio by town\n",
      "        - B        1000(Bk - 0.63)^2 where Bk is the proportion of black people by town\n",
      "        - LSTAT    % lower status of the population\n",
      "        - MEDV     Median value of owner-occupied homes in $1000's\n",
      "\n",
      "    :Missing Attribute Values: None\n",
      "\n",
      "    :Creator: Harrison, D. and Rubinfeld, D.L.\n",
      "\n",
      "This is a copy of UCI ML housing dataset.\n",
      "https://archive.ics.uci.edu/ml/machine-learning-databases/housing/\n",
      "\n",
      "\n",
      "This dataset was taken from the StatLib library which is maintained at Carnegie Mellon University.\n",
      "\n",
      "The Boston house-price data of Harrison, D. and Rubinfeld, D.L. 'Hedonic\n",
      "prices and the demand for clean air', J. Environ. Economics & Management,\n",
      "vol.5, 81-102, 1978.   Used in Belsley, Kuh & Welsch, 'Regression diagnostics\n",
      "...', Wiley, 1980.   N.B. Various transformations are used in the table on\n",
      "pages 244-261 of the latter.\n",
      "\n",
      "The Boston house-price data has been used in many machine learning papers that address regression\n",
      "problems.   \n",
      "     \n",
      ".. topic:: References\n",
      "\n",
      "   - Belsley, Kuh & Welsch, 'Regression diagnostics: Identifying Influential Data and Sources of Collinearity', Wiley, 1980. 244-261.\n",
      "   - Quinlan,R. (1993). Combining Instance-Based and Model-Based Learning. In Proceedings on the Tenth International Conference of Machine Learning, 236-243, University of Massachusetts, Amherst. Morgan Kaufmann.\n",
      "\n"
     ]
    },
    {
     "name": "stderr",
     "output_type": "stream",
     "text": [
      "/Users/gimmin-u/opt/anaconda3/lib/python3.9/site-packages/sklearn/utils/deprecation.py:87: FutureWarning: Function load_boston is deprecated; `load_boston` is deprecated in 1.0 and will be removed in 1.2.\n",
      "\n",
      "    The Boston housing prices dataset has an ethical problem. You can refer to\n",
      "    the documentation of this function for further details.\n",
      "\n",
      "    The scikit-learn maintainers therefore strongly discourage the use of this\n",
      "    dataset unless the purpose of the code is to study and educate about\n",
      "    ethical issues in data science and machine learning.\n",
      "\n",
      "    In this special case, you can fetch the dataset from the original\n",
      "    source::\n",
      "\n",
      "        import pandas as pd\n",
      "        import numpy as np\n",
      "\n",
      "\n",
      "        data_url = \"http://lib.stat.cmu.edu/datasets/boston\"\n",
      "        raw_df = pd.read_csv(data_url, sep=\"\\s+\", skiprows=22, header=None)\n",
      "        data = np.hstack([raw_df.values[::2, :], raw_df.values[1::2, :2]])\n",
      "        target = raw_df.values[1::2, 2]\n",
      "\n",
      "    Alternative datasets include the California housing dataset (i.e.\n",
      "    :func:`~sklearn.datasets.fetch_california_housing`) and the Ames housing\n",
      "    dataset. You can load the datasets as follows::\n",
      "\n",
      "        from sklearn.datasets import fetch_california_housing\n",
      "        housing = fetch_california_housing()\n",
      "\n",
      "    for the California housing dataset and::\n",
      "\n",
      "        from sklearn.datasets import fetch_openml\n",
      "        housing = fetch_openml(name=\"house_prices\", as_frame=True)\n",
      "\n",
      "    for the Ames housing dataset.\n",
      "    \n",
      "  warnings.warn(msg, category=FutureWarning)\n"
     ]
    }
   ],
   "source": [
    "# import necessary libraries\n",
    "from sklearn.datasets import load_boston\n",
    "import numpy as np\n",
    "import matplotlib.pyplot as plt\n",
    "import warnings\n",
    "from sklearn import preprocessing\n",
    "from sklearn.model_selection import train_test_split\n",
    "from sklearn import metrics \n",
    "from sklearn.preprocessing import PolynomialFeatures\n",
    "    \n",
    "# import boston housing data\n",
    "dataset = load_boston()\n",
    "\n",
    "# use \"DESCR\" to have a basic overview of the dataset\n",
    "print(dataset.DESCR)"
   ]
  },
  {
   "cell_type": "markdown",
   "id": "280324f3",
   "metadata": {},
   "source": [
    "- As shown above, there are 506 instances (or rows) and 13 different features in this data set. \n",
    "- Specific details of the features are explained above."
   ]
  },
  {
   "cell_type": "markdown",
   "id": "d24dab6e",
   "metadata": {},
   "source": [
    "### 2. Fit a linear regression model using the closed-form solution presented in class. Use k-fold cross-validation to estimate the performance of this model. Print the average of your recorded scores for both the test set and training set."
   ]
  },
  {
   "cell_type": "code",
   "execution_count": 2,
   "id": "42a8127a",
   "metadata": {},
   "outputs": [],
   "source": [
    "# define training sets and test sets as X and Y respectively\n",
    "data = dataset.data\n",
    "\n",
    "# For X, add a column with 1 for the bias term\n",
    "X = np.concatenate((np.ones((len(data),1)),data), axis = 1)\n",
    "Y = dataset.target"
   ]
  },
  {
   "cell_type": "code",
   "execution_count": 3,
   "id": "bfd481f6",
   "metadata": {},
   "outputs": [
    {
     "name": "stdout",
     "output_type": "stream",
     "text": [
      "MSE for the training set:  20.735084629886178\n",
      "MSE for the test set:  37.13180746769478\n"
     ]
    }
   ],
   "source": [
    "# import k-fold cross-validation package\n",
    "from sklearn.model_selection import KFold\n",
    "\n",
    "# set K-fold's split parameter as 5\n",
    "kf = KFold(n_splits=5)\n",
    "\n",
    "# make lists to store the MSE for each iteration.\n",
    "mse_train = []\n",
    "mse_test = []\n",
    "\n",
    "for train, test in kf.split(X):\n",
    "    # calculate the best fit weights using the closed-form solution.\n",
    "    theta = np.linalg.inv(X[train].T.dot(X[train])).dot(X[train].T.dot(Y[train]))\n",
    "    \n",
    "    # calculate the value of prediction with theta values calculated above\n",
    "    train_predicted = X[train].dot(theta)\n",
    "    test_predicted = X[test].dot(theta)\n",
    "    \n",
    "    # append the MSE of train set and test set to the respective list. \n",
    "    mse_train.append(np.mean((Y[train] - train_predicted)**2))\n",
    "    mse_test.append(np.mean((Y[test] - test_predicted)**2))\n",
    "\n",
    "# print the average MSE for both training sets and test sets\n",
    "print(\"MSE for the training set: \", np.mean(mse_train))\n",
    "print(\"MSE for the test set: \", np.mean(mse_test))"
   ]
  },
  {
   "cell_type": "markdown",
   "id": "4ae9215e",
   "metadata": {},
   "source": [
    "### 3. Fit a ridge regression model using the closed solution from written question 1"
   ]
  },
  {
   "cell_type": "code",
   "execution_count": 4,
   "id": "0a28325f",
   "metadata": {},
   "outputs": [
    {
     "name": "stdout",
     "output_type": "stream",
     "text": [
      "Best alpha with the lowest test mse:  100.0\n",
      "MSE for the training set:  23.34820908395854\n",
      "MSE for the test set:  29.905701947541633\n",
      "The parameter is shown below:\n",
      "- w_0 =  37.52259640238084\n",
      "- w_1 =  -0.10039880668830414\n",
      "- w_2 =  0.053348365898516034\n",
      "- w_3 =  -0.055143466564731604\n",
      "- w_4 =  0.5120782675270175\n",
      "- w_5 =  -0.2042187200133359\n",
      "- w_6 =  2.1411988983241415\n",
      "- w_7 =  0.001902384966478763\n",
      "- w_8 =  -1.1081263688129663\n",
      "- w_9 =  0.31785245269586204\n",
      "- w_10 =  -0.01556488660240297\n",
      "- w_11 =  -0.8298829422773585\n",
      "- w_12 =  0.008807721333455771\n",
      "- w_13 =  -0.6677149842567798\n"
     ]
    }
   ],
   "source": [
    "# make the list that contains all the alphas (regularization term)\n",
    "alpha_list = np.logspace(1, 7, num=13)\n",
    "\n",
    "# Set the number of splits to 5\n",
    "kf = KFold(n_splits=5)\n",
    "\n",
    "# assign values to store the minimum MSE for test sets and the corresponding MSE for trainings sets + the corresponding alpha\n",
    "min_mse_test = float('inf')\n",
    "corres_mse_training = 0\n",
    "best_alpha = 0\n",
    "best_theta = np.array([])\n",
    "\n",
    "# iterate through the list containing different alpha values. \n",
    "for alpha in alpha_list:\n",
    "    \n",
    "    # assign the list to store MSE values for each alpha value in alpha_list. \n",
    "    mse_train = []\n",
    "    mse_test = []\n",
    "    \n",
    "    # assign the list to store the theta value for each test in the for loop below.\n",
    "    theta_list = np.empty((0, 14))\n",
    "    \n",
    "    for train, test in kf.split(X):\n",
    "                \n",
    "        I = np.identity(len(X[0]))\n",
    "        I[0,0] = 0\n",
    "        theta = np.linalg.inv(X[train].T.dot(X[train])+alpha*I).dot(X[train].T).dot(Y[train])\n",
    "        theta_list = np.append(theta_list,theta.reshape(1,-1), axis = 0)\n",
    "        \n",
    "        # calculate the value of prediction with theta values calculated above\n",
    "        train_predicted = X[train].dot(theta)\n",
    "        test_predicted = X[test].dot(theta)\n",
    "        \n",
    "        # calculate the value of MSE for training sets and test sets\n",
    "        mse_train.append(np.mean((Y[train] - train_predicted)**2))\n",
    "        mse_test.append(np.mean((Y[test] - test_predicted)**2))\n",
    "    \n",
    "    # update minimal test MSE value and the corresponding training MSE value + alpha value.\n",
    "    if np.mean(mse_test) <  min_mse_test:\n",
    "        min_mse_test = np.mean(mse_test)\n",
    "        corres_mse_training = np.mean(mse_train)\n",
    "        best_alpha = alpha\n",
    "        best_theta =  np.mean(theta_list, axis=0)\n",
    "\n",
    "print(\"Best alpha with the lowest test mse: \", best_alpha)\n",
    "print(\"MSE for the training set: \", corres_mse_training)\n",
    "print(\"MSE for the test set: \", min_mse_test)\n",
    "print(\"The parameter is shown below:\")\n",
    "for i in range(len(best_theta)):\n",
    "    print(\"- w_\"+str(i)+\" = \",best_theta[i])\n"
   ]
  },
  {
   "cell_type": "markdown",
   "id": "5a5fd7dd",
   "metadata": {},
   "source": [
    "### 4. Repeat the previous exercise, but this time, by creating a polynomial transformation of degree 2 on the features of the dataset."
   ]
  },
  {
   "cell_type": "code",
   "execution_count": 5,
   "id": "34067554",
   "metadata": {},
   "outputs": [
    {
     "name": "stdout",
     "output_type": "stream",
     "text": [
      "Best alpha with the lowest test mse:  3162277.6601683795\n",
      "MSE for the training set:  15.239192834305985\n",
      "MSE for the test set:  27.84842269715092\n"
     ]
    }
   ],
   "source": [
    "# transform to a polynomial of degree 2:\n",
    "poly = PolynomialFeatures(degree = 2)\n",
    "# use \"data\" instead of \"X\", since \"data\" is the one without the bias column, it will add automatically. \n",
    "X_poly = poly.fit_transform(data)\n",
    "\n",
    "# repeat the exercise\n",
    "kf = KFold(n_splits=5)\n",
    "min_mse_test = float('inf')\n",
    "corres_mse_training = 0\n",
    "best_alpha = 0\n",
    "\n",
    "# update the alpha list by adding \"0\" at the front of the alpha_list.\n",
    "# so that we can compute the result of linear & ridge regression at the same time. \n",
    "new_alpha_list = np.concatenate(([0], alpha_list)) \n",
    "\n",
    "for alpha in new_alpha_list:\n",
    "    \n",
    "    mse_train = []\n",
    "    mse_test = []\n",
    "    \n",
    "    for train, test in kf.split(X_poly):\n",
    "        \n",
    "        X_train, X_test, Y_train, Y_test = X_poly[train], X_poly[test], Y[train], Y[test]\n",
    "        \n",
    "        # calculate the best fit weights using the closed-form solution.\n",
    "        I = np.identity(X_poly[train].shape[1])\n",
    "        I[0,0] = 0\n",
    "        # Use Pinv instead of inv. Otherwise it throws singular matrix error.\n",
    "        theta = np.linalg.pinv(X_train.T.dot(X_train)+alpha*I).dot(X_train.T.dot(Y_train))\n",
    "\n",
    "        # calculate the value of prediction with theta values calculated above\n",
    "        train_predicted = X_train.dot(theta)\n",
    "        test_predicted = X_test.dot(theta)\n",
    "        \n",
    "        # calculate the value \n",
    "        mse_train.append(np.average((Y_train - train_predicted)**2))\n",
    "        mse_test.append(np.average((Y_test - test_predicted)**2))\n",
    "    \n",
    "    # update minimal test mse value and the corresponding training mse value + alpha value.\n",
    "    if np.mean(mse_test) <  min_mse_test:\n",
    "        min_mse_test = np.mean(mse_test)\n",
    "        corres_mse_training = np.mean(mse_train)\n",
    "        best_alpha = alpha\n",
    "\n",
    "print(\"Best alpha with the lowest test mse: \", best_alpha)\n",
    "print(\"MSE for the training set: \", corres_mse_training)\n",
    "print(\"MSE for the test set: \", min_mse_test)"
   ]
  },
  {
   "cell_type": "markdown",
   "id": "b3ae88d6",
   "metadata": {},
   "source": [
    "### 5. Repeat Multivariate Linear Regression using the Gradient Descent method."
   ]
  },
  {
   "cell_type": "code",
   "execution_count": 6,
   "id": "a1732297",
   "metadata": {},
   "outputs": [],
   "source": [
    "# scale the features using sklearn package\n",
    "scaler = preprocessing.StandardScaler()\n",
    "X_scaled = scaler.fit_transform(X)"
   ]
  },
  {
   "cell_type": "markdown",
   "id": "92a96b08",
   "metadata": {},
   "source": [
    "5-1: Linear regression (no regularization)"
   ]
  },
  {
   "cell_type": "code",
   "execution_count": 7,
   "id": "356c9ac0",
   "metadata": {},
   "outputs": [
    {
     "name": "stdout",
     "output_type": "stream",
     "text": [
      "The MSE for training set is: 484.84740227611366\n",
      "The MSE for test set is: 909.4553915493449\n"
     ]
    }
   ],
   "source": [
    "# determine the learning rate & the number of iterations\n",
    "learning_rate = 0.0001\n",
    "iterations = 5000\n",
    "\n",
    "# list for mse:\n",
    "mse_train = []\n",
    "mse_test = []\n",
    "\n",
    "# assign weight (bias is included)\n",
    "# w = np.random.randn(len(X_scaled[0]))\n",
    "w = np.zeros((X_scaled.shape[1]))\n",
    "\n",
    "# Do K-fold cross validation\n",
    "kf = KFold(n_splits=5)\n",
    "for train, test in kf.split(X_scaled):\n",
    "    \n",
    "    X_train, X_test, Y_train, Y_test = X_scaled[train], X_scaled[test], Y[train], Y[test]\n",
    "    n = X_train.shape[0]\n",
    "    \n",
    "    for i in range(iterations):\n",
    "        Y_pred = X_train.dot(w)\n",
    "        grad = (-2/n) * (X_train.T @ (Y_train - Y_pred))\n",
    "        \n",
    "        w = w - learning_rate * grad\n",
    "        \n",
    "    train_pred = X_train.dot(w)\n",
    "    test_pred = X_test.dot(w)\n",
    "    \n",
    "    mse_train.append(np.sum(((train_pred-Y_train)**2), axis = 0) / len(X_train))\n",
    "    mse_test.append(np.sum(((test_pred-Y_test)**2), axis = 0) / len(X_test))\n",
    "        \n",
    "print(\"The MSE for training set is:\", np.mean(mse_train))\n",
    "print(\"The MSE for test set is:\", np.mean(mse_test))"
   ]
  },
  {
   "cell_type": "markdown",
   "id": "2f57c804",
   "metadata": {},
   "source": [
    "5-2: Ridge regression"
   ]
  },
  {
   "cell_type": "code",
   "execution_count": 8,
   "id": "71cdc0a9",
   "metadata": {},
   "outputs": [
    {
     "name": "stdout",
     "output_type": "stream",
     "text": [
      "The MSE for training set is: 532.7039495624031\n",
      "The MSE for test set is: 754.8214792841834\n"
     ]
    }
   ],
   "source": [
    "# determine the learning rate & the number of iterations & regularizing term alpha\n",
    "learning_rate = 0.0001\n",
    "iterations = 5000\n",
    "alpha = 100\n",
    "\n",
    "# assign weight (bias is included)\n",
    "w = np.random.randn(len(X_scaled[0]))\n",
    "\n",
    "# Do K-fold cross validation\n",
    "kf = KFold(n_splits=5)\n",
    "for train, test in kf.split(X_scaled):\n",
    "    \n",
    "    X_train, X_test, Y_train, Y_test = X_scaled[train], X_scaled[test], Y[train], Y[test]\n",
    "    n = len(X_train)\n",
    "    \n",
    "    for i in range(iterations):\n",
    "        Y_pred = X_train.dot(w)\n",
    "        grad = (-2/n) * (X_train.T @ (Y_train - Y_pred)) + alpha * w\n",
    "        \n",
    "        w = w - learning_rate * grad\n",
    "        \n",
    "    train_pred = X_train.dot(w)\n",
    "    test_pred = X_test.dot(w)\n",
    "    \n",
    "    mse_train.append(np.sum(((train_pred-Y_train)**2), axis = 0) / len(X_train))\n",
    "    mse_test.append(np.sum(((test_pred-Y_test)**2), axis = 0) / len(X_test))\n",
    "        \n",
    "print(\"The MSE for training set is:\", np.mean(mse_train))\n",
    "print(\"The MSE for test set is:\", np.mean(mse_test))"
   ]
  },
  {
   "cell_type": "markdown",
   "id": "7d77d300",
   "metadata": {},
   "source": [
    "### 6. Implement the Lasso regression"
   ]
  },
  {
   "cell_type": "code",
   "execution_count": 9,
   "id": "09bcf158",
   "metadata": {
    "scrolled": true
   },
   "outputs": [
    {
     "name": "stdout",
     "output_type": "stream",
     "text": [
      "The MSE for training set is: 552.5312522465634\n",
      "The MSE for test set is: 700.6844612421993\n"
     ]
    }
   ],
   "source": [
    "# determine the learning rate & the number of iterations & regularizing term alpha\n",
    "learning_rate = 0.0001\n",
    "iterations = 5000\n",
    "alpha = 100\n",
    "\n",
    "# assign weight (bias is included)\n",
    "w = np.random.randn(len(X_scaled[0]))\n",
    "\n",
    "# Do K-fold cross validation\n",
    "kf = KFold(n_splits=5)\n",
    "for train, test in kf.split(X_scaled):\n",
    "    \n",
    "    X_train, X_test, Y_train, Y_test = X_scaled[train], X_scaled[test], Y[train], Y[test]\n",
    "    n = len(X_train)\n",
    "    \n",
    "    for i in range(iterations):\n",
    "        Y_pred = X_train.dot(w)\n",
    "        grad = (-2/n) * (X_train.T @ (Y_train - Y_pred)) + alpha * np.sign(w)\n",
    "        \n",
    "        w = w - learning_rate * grad\n",
    "        \n",
    "    train_pred = X_train.dot(w)\n",
    "    test_pred = X_test.dot(w)\n",
    "    \n",
    "    mse_train.append(np.sum(((train_pred-Y_train)**2), axis = 0) / len(X_train))\n",
    "    mse_test.append(np.sum(((test_pred-Y_test)**2), axis = 0) / len(X_test))\n",
    "        \n",
    "print(\"The MSE for training set is:\", np.mean(mse_train))\n",
    "print(\"The MSE for test set is:\", np.mean(mse_test))"
   ]
  },
  {
   "cell_type": "markdown",
   "id": "6653ddf7",
   "metadata": {},
   "source": [
    "### 7. Implement the Elastic Net regression"
   ]
  },
  {
   "cell_type": "code",
   "execution_count": 10,
   "id": "d0591d7d",
   "metadata": {},
   "outputs": [
    {
     "name": "stdout",
     "output_type": "stream",
     "text": [
      "The MSE for training set is: 561.6140090503334\n",
      "The MSE for test set is: 673.6086859577298\n"
     ]
    }
   ],
   "source": [
    "# determine the learning rate & the number of iterations & regularizing term alpha_1, alpha_2\n",
    "learning_rate = 0.0001\n",
    "iterations = 5000\n",
    "alpha_1 = 1000\n",
    "alpha_2 = 300\n",
    "\n",
    "# assign weight (bias is included)\n",
    "w = np.random.randn(len(X_scaled[0]))\n",
    "\n",
    "# Do K-fold cross validation\n",
    "kf = KFold(n_splits=5)\n",
    "for train, test in kf.split(X_scaled):\n",
    "    \n",
    "    X_train, X_test, Y_train, Y_test = X_scaled[train], X_scaled[test], Y[train], Y[test]\n",
    "    n = len(X_train)\n",
    "    \n",
    "    for i in range(iterations):\n",
    "        Y_pred = X_train.dot(w)\n",
    "        grad = (-2/n) * (X_train.T @ (Y_train - Y_pred)) + alpha_1 * np.sign(w) + 2 * alpha_2 * w\n",
    "        \n",
    "        w = w - learning_rate * grad\n",
    "        \n",
    "    train_pred = X_train.dot(w)\n",
    "    test_pred = X_test.dot(w)\n",
    "    \n",
    "    mse_train.append(np.sum(((train_pred-Y_train)**2), axis = 0) / len(X_train))\n",
    "    mse_test.append(np.sum(((test_pred-Y_test)**2), axis = 0) / len(X_test))\n",
    "        \n",
    "print(\"The MSE for training set is:\", np.mean(mse_train))\n",
    "print(\"The MSE for test set is:\", np.mean(mse_test))"
   ]
  },
  {
   "cell_type": "markdown",
   "id": "e350d2d7",
   "metadata": {},
   "source": [
    "### 8. If you are given a choice of predicting future housing prices using one of the models you have learned above, which one would you choose and why? State the parameters of that model."
   ]
  },
  {
   "cell_type": "markdown",
   "id": "84babfd2",
   "metadata": {},
   "source": [
    "I would choose the result of **ridge regression** with **1st order polynomial **using the **closed-form solution** with the alpha value of **100**\n",
    "The parameters I obtained are shown below (computed above):\n",
    "- w_0 =  37.52259640238084\n",
    "- w_1 =  -0.10039880668830414\n",
    "- w_2 =  0.053348365898516034\n",
    "- w_3 =  -0.055143466564731604\n",
    "- w_4 =  0.5120782675270175\n",
    "- w_5 =  -0.2042187200133359\n",
    "- w_6 =  2.1411988983241415\n",
    "- w_7 =  0.001902384966478763\n",
    "- w_8 =  -1.1081263688129663\n",
    "- w_9 =  0.31785245269586204\n",
    "- w_10 =  -0.01556488660240297\n",
    "- w_11 =  -0.8298829422773585\n",
    "- w_12 =  0.008807721333455771\n",
    "- w_13 =  -0.6677149842567798\n",
    "\n",
    "There are several reason why I felt this way\n",
    "1. Compared to the gradient descent methodology, the closed-form solution shows a more stable and mathematically proven result. Unlike the closed-form solution, the results with gradient descent method deviates too much respective to the change of alpha values.\n",
    "2. Compared to the second order polynomial, the first order polynomial requires much less computation. Also, It never showed a dramatic improvement of performance. Therefore, I believe it is better to stick to first order polynomial\n",
    "2. Among all the closed-form solution using first order polynomial, the ridge regression with the alpha value 100 showed the lowest MSE value in testing. Therefore, I think this is the best choice to predict the future housing price."
   ]
  },
  {
   "cell_type": "markdown",
   "id": "f623d3de",
   "metadata": {},
   "source": [
    "## Part B: Logistic Regression"
   ]
  },
  {
   "cell_type": "markdown",
   "id": "7f227e39",
   "metadata": {},
   "source": [
    "### 1. Explore and import Breast Cancer Wisconsin dataset:"
   ]
  },
  {
   "cell_type": "code",
   "execution_count": 11,
   "id": "ed103340",
   "metadata": {},
   "outputs": [
    {
     "name": "stdout",
     "output_type": "stream",
     "text": [
      ".. _breast_cancer_dataset:\n",
      "\n",
      "Breast cancer wisconsin (diagnostic) dataset\n",
      "--------------------------------------------\n",
      "\n",
      "**Data Set Characteristics:**\n",
      "\n",
      "    :Number of Instances: 569\n",
      "\n",
      "    :Number of Attributes: 30 numeric, predictive attributes and the class\n",
      "\n",
      "    :Attribute Information:\n",
      "        - radius (mean of distances from center to points on the perimeter)\n",
      "        - texture (standard deviation of gray-scale values)\n",
      "        - perimeter\n",
      "        - area\n",
      "        - smoothness (local variation in radius lengths)\n",
      "        - compactness (perimeter^2 / area - 1.0)\n",
      "        - concavity (severity of concave portions of the contour)\n",
      "        - concave points (number of concave portions of the contour)\n",
      "        - symmetry\n",
      "        - fractal dimension (\"coastline approximation\" - 1)\n",
      "\n",
      "        The mean, standard error, and \"worst\" or largest (mean of the three\n",
      "        worst/largest values) of these features were computed for each image,\n",
      "        resulting in 30 features.  For instance, field 0 is Mean Radius, field\n",
      "        10 is Radius SE, field 20 is Worst Radius.\n",
      "\n",
      "        - class:\n",
      "                - WDBC-Malignant\n",
      "                - WDBC-Benign\n",
      "\n",
      "    :Summary Statistics:\n",
      "\n",
      "    ===================================== ====== ======\n",
      "                                           Min    Max\n",
      "    ===================================== ====== ======\n",
      "    radius (mean):                        6.981  28.11\n",
      "    texture (mean):                       9.71   39.28\n",
      "    perimeter (mean):                     43.79  188.5\n",
      "    area (mean):                          143.5  2501.0\n",
      "    smoothness (mean):                    0.053  0.163\n",
      "    compactness (mean):                   0.019  0.345\n",
      "    concavity (mean):                     0.0    0.427\n",
      "    concave points (mean):                0.0    0.201\n",
      "    symmetry (mean):                      0.106  0.304\n",
      "    fractal dimension (mean):             0.05   0.097\n",
      "    radius (standard error):              0.112  2.873\n",
      "    texture (standard error):             0.36   4.885\n",
      "    perimeter (standard error):           0.757  21.98\n",
      "    area (standard error):                6.802  542.2\n",
      "    smoothness (standard error):          0.002  0.031\n",
      "    compactness (standard error):         0.002  0.135\n",
      "    concavity (standard error):           0.0    0.396\n",
      "    concave points (standard error):      0.0    0.053\n",
      "    symmetry (standard error):            0.008  0.079\n",
      "    fractal dimension (standard error):   0.001  0.03\n",
      "    radius (worst):                       7.93   36.04\n",
      "    texture (worst):                      12.02  49.54\n",
      "    perimeter (worst):                    50.41  251.2\n",
      "    area (worst):                         185.2  4254.0\n",
      "    smoothness (worst):                   0.071  0.223\n",
      "    compactness (worst):                  0.027  1.058\n",
      "    concavity (worst):                    0.0    1.252\n",
      "    concave points (worst):               0.0    0.291\n",
      "    symmetry (worst):                     0.156  0.664\n",
      "    fractal dimension (worst):            0.055  0.208\n",
      "    ===================================== ====== ======\n",
      "\n",
      "    :Missing Attribute Values: None\n",
      "\n",
      "    :Class Distribution: 212 - Malignant, 357 - Benign\n",
      "\n",
      "    :Creator:  Dr. William H. Wolberg, W. Nick Street, Olvi L. Mangasarian\n",
      "\n",
      "    :Donor: Nick Street\n",
      "\n",
      "    :Date: November, 1995\n",
      "\n",
      "This is a copy of UCI ML Breast Cancer Wisconsin (Diagnostic) datasets.\n",
      "https://goo.gl/U2Uwz2\n",
      "\n",
      "Features are computed from a digitized image of a fine needle\n",
      "aspirate (FNA) of a breast mass.  They describe\n",
      "characteristics of the cell nuclei present in the image.\n",
      "\n",
      "Separating plane described above was obtained using\n",
      "Multisurface Method-Tree (MSM-T) [K. P. Bennett, \"Decision Tree\n",
      "Construction Via Linear Programming.\" Proceedings of the 4th\n",
      "Midwest Artificial Intelligence and Cognitive Science Society,\n",
      "pp. 97-101, 1992], a classification method which uses linear\n",
      "programming to construct a decision tree.  Relevant features\n",
      "were selected using an exhaustive search in the space of 1-4\n",
      "features and 1-3 separating planes.\n",
      "\n",
      "The actual linear program used to obtain the separating plane\n",
      "in the 3-dimensional space is that described in:\n",
      "[K. P. Bennett and O. L. Mangasarian: \"Robust Linear\n",
      "Programming Discrimination of Two Linearly Inseparable Sets\",\n",
      "Optimization Methods and Software 1, 1992, 23-34].\n",
      "\n",
      "This database is also available through the UW CS ftp server:\n",
      "\n",
      "ftp ftp.cs.wisc.edu\n",
      "cd math-prog/cpo-dataset/machine-learn/WDBC/\n",
      "\n",
      ".. topic:: References\n",
      "\n",
      "   - W.N. Street, W.H. Wolberg and O.L. Mangasarian. Nuclear feature extraction \n",
      "     for breast tumor diagnosis. IS&T/SPIE 1993 International Symposium on \n",
      "     Electronic Imaging: Science and Technology, volume 1905, pages 861-870,\n",
      "     San Jose, CA, 1993.\n",
      "   - O.L. Mangasarian, W.N. Street and W.H. Wolberg. Breast cancer diagnosis and \n",
      "     prognosis via linear programming. Operations Research, 43(4), pages 570-577, \n",
      "     July-August 1995.\n",
      "   - W.H. Wolberg, W.N. Street, and O.L. Mangasarian. Machine learning techniques\n",
      "     to diagnose breast cancer from fine-needle aspirates. Cancer Letters 77 (1994) \n",
      "     163-171.\n"
     ]
    }
   ],
   "source": [
    "# import the data\n",
    "from sklearn.datasets import load_breast_cancer\n",
    "cancer_dataset = load_breast_cancer()\n",
    "\n",
    "# Have a overview of the data\n",
    "print(cancer_dataset.DESCR)"
   ]
  },
  {
   "cell_type": "markdown",
   "id": "2e15d658",
   "metadata": {},
   "source": [
    "As shown above there are 569 instances (rows) in total, and 30 attributes. \n",
    "The min and max values of each attributes are shown as well."
   ]
  },
  {
   "cell_type": "code",
   "execution_count": 12,
   "id": "6f5dfe0d",
   "metadata": {},
   "outputs": [],
   "source": [
    "# retrieve the data\n",
    "X = cancer_dataset.data\n",
    "Y = cancer_dataset.target\n",
    "\n",
    "# use train_test_split to split the training sets and test sets\n",
    "X_train, X_test, Y_train, Y_test = train_test_split(X,Y,test_size=0.2,random_state=42)\n",
    "scaler = preprocessing.StandardScaler().fit(X_train)\n",
    "X_train = scaler.transform(X_train)\n",
    "X_test = scaler.transform(X_test)\n",
    "\n",
    "# update the training sets and tests sets of X by adding the bias column.\n",
    "X_train = np.c_[X_train, np.ones((X_train.shape[0],1))]\n",
    "X_test = np.c_[X_test, np.ones((X_test.shape[0],1))]"
   ]
  },
  {
   "cell_type": "markdown",
   "id": "646faedb",
   "metadata": {},
   "source": [
    "### 2. Report coefficient vector *w*"
   ]
  },
  {
   "cell_type": "code",
   "execution_count": 13,
   "id": "7cbbe584",
   "metadata": {},
   "outputs": [],
   "source": [
    "# define some necessary functions:\n",
    "def sigmoid(z):\n",
    "    sigmoid = 1.0 / (1.0 + np.exp(-z))\n",
    "    return sigmoid\n",
    "\n",
    "# log-likelihood\n",
    "def LL(X,Y,w):\n",
    "    LL = np.mean(Y*np.log(sigmoid((X.dot(w)))) + (1-Y)*np.log(1-sigmoid((X.dot(w)))))\n",
    "    return LL\n",
    "\n",
    "# gradient\n",
    "def gradient(X,Y,w):\n",
    "    gradient = (1/X.shape[0]) * X.T.dot(Y-sigmoid(X.dot(w)))\n",
    "    return gradient"
   ]
  },
  {
   "cell_type": "code",
   "execution_count": 14,
   "id": "d65419e2",
   "metadata": {},
   "outputs": [
    {
     "name": "stdout",
     "output_type": "stream",
     "text": [
      "The coefficient vector w is shown below:\n",
      "[-0.2763642   0.26835003 -1.5502385   2.4025831   0.37337404  2.00066385\n",
      " -1.59091096 -2.7401006   0.96552953 -0.71387551 -3.70958836  0.62287194\n",
      " -0.23475956 -3.09299616 -0.59072297  1.17261693  1.33035074 -1.37296766\n",
      "  1.04169536  0.87326799 -2.61177032 -3.08485953 -0.04525308 -1.87686\n",
      " -0.59672716 -0.05924613 -2.47274249 -0.79035065 -2.62918122  0.26319644\n",
      " -0.22531528]\n"
     ]
    }
   ],
   "source": [
    "#assign the threshold, learning rate, and iterations.\n",
    "threshold = 0.5\n",
    "learning_rate = 0.5\n",
    "iterations = 5000\n",
    "\n",
    "# declare function that returns coefficient vector & LL list\n",
    "def coefficient_vector(X_train,Y_train,learning_rate,iterations):\n",
    "\n",
    "    # randomize w (start with all 0 in this case)\n",
    "    w = np.random.randn(len(X_train[0]))\n",
    "    \n",
    "    # a list to store the log likelihood value. \n",
    "    LL_list = []\n",
    "    \n",
    "    for i in range(iterations):\n",
    "        # gradient ascent\n",
    "        w = w + learning_rate * gradient(X_train,Y_train,w)\n",
    "        #store the log likelihood value to the list every 100 times. \n",
    "        if i%100 == 0:\n",
    "            LL_list.append(LL(X_train,Y_train,w))\n",
    "    \n",
    "    return w, LL_list\n",
    "\n",
    "w,LL_list = coefficient_vector(X_train,Y_train,learning_rate,iterations)\n",
    "\n",
    "print(\"The coefficient vector w is shown below:\")\n",
    "print(w)"
   ]
  },
  {
   "cell_type": "markdown",
   "id": "2c77a8ea",
   "metadata": {},
   "source": [
    "### 3. For the test dataset, determine the a) Precision b) Recall c) F1 score d) Confusion matrix."
   ]
  },
  {
   "cell_type": "code",
   "execution_count": 15,
   "id": "af6752a1",
   "metadata": {},
   "outputs": [
    {
     "name": "stdout",
     "output_type": "stream",
     "text": [
      "The statistical figures regarding the predictions are shown below:\n",
      "Precision:  0.9857142857142858\n",
      "Recall:  0.971830985915493\n",
      "F1 score:  0.9787234042553192\n"
     ]
    }
   ],
   "source": [
    "def stats(X_test,Y_test,w,threshold):\n",
    "\n",
    "    # compute the predicted result\n",
    "    Y_prediction = sigmoid(X_test.dot(w))\n",
    "\n",
    "    # if the results are below the threshold, set the prediction to 0. Else, set it to \n",
    "    Y_prediction[Y_prediction <= threshold] = 0\n",
    "    Y_prediction[Y_prediction > threshold] = 1\n",
    "\n",
    "    TP = 0\n",
    "    TN = 0\n",
    "    FP = 0\n",
    "    FN = 0\n",
    "\n",
    "    # compare the actual Y and predicted Y to count the TP, TN, FP, and FN.\n",
    "    for i in range(Y_test.shape[0]):\n",
    "        # actual: 1, predicted: 1 -> TP\n",
    "        if Y_test[i] == 1 and Y_prediction[i] == 1:\n",
    "            TP += 1\n",
    "        # actual: 0, predicted: 0 -> TN\n",
    "        elif Y_test[i] == 0 and Y_prediction[i] == 0:\n",
    "            TN += 1\n",
    "        # actual: 1, predicted: 0 -> FN\n",
    "        elif Y_test[i] == 1 and Y_prediction[i] == 0:\n",
    "            FN += 1\n",
    "         # actual: 0, predicted: 1 -> FN\n",
    "        else:\n",
    "            FP += 1\n",
    "\n",
    "    precision = TP/(TP+FP)\n",
    "    recall = TP/(TP+FN)\n",
    "    F1_score = 2*precision*recall/(precision+recall)\n",
    "\n",
    "    return precision, recall,F1_score,Y_prediction\n",
    "\n",
    "precision,recall,F1_score,Y_prediction = stats(X_test,Y_test,w,threshold)\n",
    "\n",
    "print(\"The statistical figures regarding the predictions are shown below:\")\n",
    "print(\"Precision: \", precision)\n",
    "print(\"Recall: \", recall)\n",
    "print(\"F1 score: \", F1_score)"
   ]
  },
  {
   "cell_type": "code",
   "execution_count": 16,
   "id": "ab0e2f79",
   "metadata": {},
   "outputs": [
    {
     "data": {
      "image/png": "[encoded data removed]",
      "text/plain": [
       "<Figure size 432x288 with 2 Axes>"
      ]
     },
     "metadata": {
      "needs_background": "light"
     },
     "output_type": "display_data"
    }
   ],
   "source": [
    "# plot the confusion matrix with sklearn and matplotlib\n",
    "confusion_matrix = metrics.confusion_matrix(Y_test, Y_prediction)\n",
    "cm_display = metrics.ConfusionMatrixDisplay(confusion_matrix = confusion_matrix, display_labels = [False, True])\n",
    "cm_display.plot()\n",
    "plt.show()"
   ]
  },
  {
   "cell_type": "markdown",
   "id": "a12c22e1",
   "metadata": {},
   "source": [
    "### 4. Plot the value of the log-likelihood (the objective function) on every 100th iteration of your gradient ascent, with the iteration number on the horizontal axis and the objective value on the vertical axis"
   ]
  },
  {
   "cell_type": "code",
   "execution_count": 17,
   "id": "a95e78b4",
   "metadata": {},
   "outputs": [
    {
     "data": {
      "text/plain": [
       "[<matplotlib.lines.Line2D at 0x7fb09e41d6d0>]"
      ]
     },
     "execution_count": 17,
     "metadata": {},
     "output_type": "execute_result"
    },
    {
     "data": {
      "image/png": "[encoded data removed]",
      "text/plain": [
       "<Figure size 432x288 with 1 Axes>"
      ]
     },
     "metadata": {
      "needs_background": "light"
     },
     "output_type": "display_data"
    }
   ],
   "source": [
    "x_axis = list(range(0, 5000, 100))\n",
    "plt.plot(x_axis,LL_list)"
   ]
  },
  {
   "cell_type": "markdown",
   "id": "2bf15c9b",
   "metadata": {},
   "source": [
    "### 5. Use the test set as a validation set and see if you can find a better setting of the hyperparameters. Report the best values you found"
   ]
  },
  {
   "cell_type": "markdown",
   "id": "ed49f01e",
   "metadata": {},
   "source": [
    "1. raise the threshold from 0.5 to 0.8. The learning rate and the number iterations are unchanged"
   ]
  },
  {
   "cell_type": "code",
   "execution_count": 18,
   "id": "e72e5cda",
   "metadata": {},
   "outputs": [
    {
     "name": "stdout",
     "output_type": "stream",
     "text": [
      "The statistical figures regarding the predictions are shown below:\n",
      "Precision:  0.9855072463768116\n",
      "Recall:  0.9577464788732394\n",
      "F1 score:  0.9714285714285714\n"
     ]
    }
   ],
   "source": [
    "w,LL_list = coefficient_vector(X_train,Y_train,0.5,5000)\n",
    "\n",
    "precision,recall,F1_score,Y_prediction = stats(X_test,Y_test,w,0.8)\n",
    "\n",
    "print(\"The statistical figures regarding the predictions are shown below:\")\n",
    "print(\"Precision: \", precision)\n",
    "print(\"Recall: \", recall)\n",
    "print(\"F1 score: \", F1_score)"
   ]
  },
  {
   "cell_type": "markdown",
   "id": "c6414507",
   "metadata": {},
   "source": [
    "2. Lower the learning rate to 0.2. The threshold and the number of iterations are unchanged."
   ]
  },
  {
   "cell_type": "code",
   "execution_count": 19,
   "id": "bddda423",
   "metadata": {},
   "outputs": [
    {
     "name": "stdout",
     "output_type": "stream",
     "text": [
      "The statistical figures regarding the predictions are shown below:\n",
      "Precision:  0.9857142857142858\n",
      "Recall:  0.971830985915493\n",
      "F1 score:  0.9787234042553192\n"
     ]
    }
   ],
   "source": [
    "w,LL_list = coefficient_vector(X_train,Y_train,0.2,5000)\n",
    "\n",
    "precision,recall,F1_score,Y_prediction = stats(X_test,Y_test,w,0.5)\n",
    "\n",
    "print(\"The statistical figures regarding the predictions are shown below:\")\n",
    "print(\"Precision: \", precision)\n",
    "print(\"Recall: \", recall)\n",
    "print(\"F1 score: \", F1_score)"
   ]
  },
  {
   "cell_type": "markdown",
   "id": "6b7e4136",
   "metadata": {},
   "source": [
    "3. Raise the number of iterations to 10000. Others remained unchanged."
   ]
  },
  {
   "cell_type": "code",
   "execution_count": 20,
   "id": "44a53d1f",
   "metadata": {},
   "outputs": [
    {
     "name": "stdout",
     "output_type": "stream",
     "text": [
      "The statistical figures regarding the predictions are shown below:\n",
      "Precision:  0.9855072463768116\n",
      "Recall:  0.9577464788732394\n",
      "F1 score:  0.9714285714285714\n"
     ]
    }
   ],
   "source": [
    "w,LL_list = coefficient_vector(X_train,Y_train,0.5,10000)\n",
    "\n",
    "precision,recall,F1_score,Y_prediction = stats(X_test,Y_test,w,0.5)\n",
    "\n",
    "print(\"The statistical figures regarding the predictions are shown below:\")\n",
    "print(\"Precision: \", precision)\n",
    "print(\"Recall: \", recall)\n",
    "print(\"F1 score: \", F1_score)"
   ]
  },
  {
   "cell_type": "markdown",
   "id": "33496674",
   "metadata": {},
   "source": [
    "4. Threshold: 0.8, Learning rate: 0.2, Number of iterations: 10000"
   ]
  },
  {
   "cell_type": "code",
   "execution_count": 21,
   "id": "59d123d3",
   "metadata": {},
   "outputs": [
    {
     "name": "stdout",
     "output_type": "stream",
     "text": [
      "The statistical figures regarding the predictions are shown below:\n",
      "Precision:  0.9852941176470589\n",
      "Recall:  0.9436619718309859\n",
      "F1 score:  0.9640287769784172\n"
     ]
    }
   ],
   "source": [
    "w,LL_list = coefficient_vector(X_train,Y_train,0.2,10000)\n",
    "\n",
    "precision,recall,F1_score,Y_prediction = stats(X_test,Y_test,w,0.8)\n",
    "\n",
    "print(\"The statistical figures regarding the predictions are shown below:\")\n",
    "print(\"Precision: \", precision)\n",
    "print(\"Recall: \", recall)\n",
    "print(\"F1 score: \", F1_score)"
   ]
  },
  {
   "cell_type": "markdown",
   "id": "6c2bfa29",
   "metadata": {},
   "source": [
    "As shown above, I tried 4 cases with different parameters:\n",
    "- Threshold: 0.8, Learning rate: 0.5, Number of iterations: 5000 \n",
    "- Threshold: 0.5, Learning rate: 0.2, Number of iterations: 5000\n",
    "- Threshold: 0.5, Learning rate: 0.5, Number of iterations: 10000\n",
    "- Threshold: 0.8, Learning rate: 0.2, Number of iterations: 10000\n",
    "\n",
    "To see the balanced performance of the model, I chose to compare F1-score\n",
    "\n",
    "According to the result, all of them showed similar performance, all higher than 0.95. \n",
    "The result will vary according to the randomness of initial values of w and different selections of training and datasets. \n",
    "Therefore, I would say it never made a significant impact on the overall performance of the model.\n",
    "So, I would say it is fine to stick to the original hyperparameters: *Threshold: 0.5, Learning rate: 0.5, Number of iterations: 5000*\n"
   ]
  }
 ],
 "metadata": {
  "kernelspec": {
   "display_name": "Python 3 (ipykernel)",
   "language": "python",
   "name": "python3"
  },
  "language_info": {
   "codemirror_mode": {
    "name": "ipython",
    "version": 3
   },
   "file_extension": ".py",
   "mimetype": "text/x-python",
   "name": "python",
   "nbconvert_exporter": "python",
   "pygments_lexer": "ipython3",
   "version": "3.9.12"
  }
 },
 "nbformat": 4,
 "nbformat_minor": 5
}
